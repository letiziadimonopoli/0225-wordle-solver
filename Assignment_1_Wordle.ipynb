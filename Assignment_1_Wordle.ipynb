{
 "cells": [
  {
   "cell_type": "markdown",
   "metadata": {
    "id": "NoDb3VzkQR5S"
   },
   "source": [
    "## Assignment 1: Wordle\n",
    "\n",
    "In this assignment, you will write a guesser for (a close cousin of) the game Wordle.\n",
    "Wordle is a word-guessing game, where you have 6 attempts to guess a 5-letter word.\n",
    "You can play it [here](https://www.nytimes.com/games/wordle/index.html)\n",
    "\n",
    "With each guess, you learn whether you correctly guessed a character (and its position), whether a character appears in the word but in a different position, or does not appear in the word at all.\n",
    "\n",
    "\n",
    "### 📝 Task\n",
    "\n",
    "The Wordle program we give you contains three classes (with pretty self-explanatory names):\n",
    "- `game.py` runs n games of Wordle coordinating the other two classes and keeps track of the scores. This script creates a new guesser object for every run.\n",
    "- `wordle.py` implements the game of Wordle, from choosing the word to guess to checking the correctness of a guess.\n",
    "- `guesser.py` produces a guess word. THIS IS WHAT YOU NEED TO MODIFY TO PRODUCE YOUR SOLUTION. At the moment, `get_guess' just returns a random word from the wordlist.\n",
    "\n",
    "You also have two wordlists in tsv and yaml format:\n",
    "1. `train_wordlist` (named as `wordlist` in the folder) contains ca. 4k words along with their frequency in an unnamed corpus, to be used for training. Using the word frequency data (e.g. to compute character n-gram probabilities) is completely optional.\n",
    "2. `dev_wordlist` contains another 500 words for development, matching the size of the test set.\n",
    "\n",
    "You can run 10 games of Wordle with\n",
    "`python game.py --r 10`. <br>\n",
    "When you run this command, the program will output some stats about your success rate.\n",
    "\n",
    "Please note:\n",
    "- Do NOT modify wordle.py or game.py, or your submission might crash.\n",
    "- Using any variable or function of the World object that gives you a clue is cheating and will be graded 0!\n",
    "\n",
    "\n",
    "### 🏅 Assessment\n",
    "\n",
    "We will evaluate your `guesser.py` on a secret test set containing 500 words.\n",
    "Your grade will be based on a combination of:\n",
    "1. How often your `guesser.py` correctly guesses the word.\n",
    "2. The average number of tries it takes to produce a correct guess.\n",
    "3. The time it takes to produce 500 guesses on the test set.\n",
    "\n",
    "Please note:\n",
    "- Some of the words in the test set will neither be in the training nor the dev set.\n",
    "This is to make sure you don’t overfit your solution words you have access to.\n",
    "You cannot make any assumptions about how words will be selected / sampled from the test set (e.g. with or without replacement).\n",
    "- Your guess can be any 5-letter string.\n",
    "It does not have to be a word.\n",
    "However, the solution will always be drawn from the wordlist (which contains only words).\n",
    "- Our goal is to evaluate how good your `guesser.py` is at guessing words from a particular list of potential solution words.\n",
    "In the training set, this is `wordlist.yaml`.\n",
    "For the test set, we will swap this for the testset yaml – therefore, please do not rename `wordlist.yaml` in your code!\n",
    "This means your `guesser.py` will always have access to the list of words that the game is played on.\n",
    "- We discourage the use of non-standard Python libraries.\n",
    "We cannot guarantee they will be installed successfully when we run the evaluation script.\n",
    "Fancy packages are not necessary for a good solution!\n",
    "\n",
    "\n",
    "### 📥 Submission Instructions\n",
    "\n",
    "Please upload only your file called `guesser.py` (using exactly this name) to the BlackBoard Assignment 1 section.\n",
    "\n",
    "For the deadline, please refer to BlackBoard.\n"
   ]
  },
  {
   "cell_type": "markdown",
   "metadata": {
    "id": "S8qilBYDQR5c"
   },
   "source": []
  }
 ],
 "metadata": {
  "colab": {
   "provenance": []
  },
  "kernelspec": {
   "display_name": "Python 3 (ipykernel)",
   "language": "python",
   "name": "python3"
  },
  "language_info": {
   "codemirror_mode": {
    "name": "ipython",
    "version": 3
   },
   "file_extension": ".py",
   "mimetype": "text/x-python",
   "name": "python",
   "nbconvert_exporter": "python",
   "pygments_lexer": "ipython3",
   "version": "3.9.18"
  }
 },
 "nbformat": 4,
 "nbformat_minor": 1
}
